{
 "cells": [
  {
   "cell_type": "code",
   "execution_count": 1,
   "metadata": {},
   "outputs": [],
   "source": [
    "import ipywidgets\n",
    "import numpy as np\n",
    "import polars as pl\n",
    "import pandas as pd\n",
    "from numba import jit\n",
    "from tqdm import tqdm\n",
    "import geopandas as gpd\n",
    "from shapely.geometry import Point, LineString, Polygon\n",
    "from lonboard import viz, Map, ScatterplotLayer, SolidPolygonLayer\n",
    "from lonboard.basemap import CartoBasemap\n",
    "\n",
    "import warnings\n",
    "warnings.filterwarnings(\"ignore\")"
   ]
  },
  {
   "cell_type": "markdown",
   "metadata": {},
   "source": [
    "PC specs: AMD Ryzen 9 3900x (12 core, 24 threads), 10GB NVIDIA 3080, 32GB RAM\n",
    "\n",
    "- full dataset, sampled every 1-5s:\n",
    "    - 24,858,308 points\n",
    "    - 980.7 MB parquet\n",
    "    - 34 seconds to load (GeoPandas direct)\n",
    "    - 52.6 seconds to render (viz()) (almost crashed)\n",
    "- resampled user data to every 10s:\n",
    "    - 6,685,898 points\n",
    "    - 256.7 MB parquet\n",
    "    - 6 seconds to load (GeoPandas direct)\n",
    "    - 9.75s to render (viz())\n",
    "- sampled user data to every 1 minute:\n",
    "    - 1,286,190 points\n",
    "    - 55.6 MB parquet\n",
    "    - 1.44 seconds to load (GeoPandas direct)\n",
    "    - 1.97s to render (viz())\n",
    "- sampled user data to every 5 minutes:\n",
    "    - 326,935 points\n",
    "    - 14.6 MB parquet\n",
    "    - 455 ms to load (GeoPandas direct)\n",
    "    - 514 ms to render (viz())"
   ]
  },
  {
   "cell_type": "code",
   "execution_count": 11,
   "metadata": {},
   "outputs": [],
   "source": [
    "# file = r'C:\\Users\\andrr\\Desktop\\geolife\\geolife_points_full.parquet'\n",
    "file = r'C:\\Users\\andrr\\Desktop\\geolife\\geolife_points_10sec.parquet'\n",
    "# file = r'C:\\Users\\andrr\\Desktop\\geolife\\geolife_points_1min.parquet'"
   ]
  },
  {
   "cell_type": "code",
   "execution_count": 12,
   "metadata": {
    "scrolled": false
   },
   "outputs": [
    {
     "name": "stdout",
     "output_type": "stream",
     "text": [
      "Number of records in the dataset: 6685898\n",
      "CPU times: total: 12.6 s\n",
      "Wall time: 11.9 s\n"
     ]
    },
    {
     "data": {
      "text/html": [
       "<div>\n",
       "<style scoped>\n",
       "    .dataframe tbody tr th:only-of-type {\n",
       "        vertical-align: middle;\n",
       "    }\n",
       "\n",
       "    .dataframe tbody tr th {\n",
       "        vertical-align: top;\n",
       "    }\n",
       "\n",
       "    .dataframe thead th {\n",
       "        text-align: right;\n",
       "    }\n",
       "</style>\n",
       "<table border=\"1\" class=\"dataframe\">\n",
       "  <thead>\n",
       "    <tr style=\"text-align: right;\">\n",
       "      <th></th>\n",
       "      <th>timestamp</th>\n",
       "      <th>latitude</th>\n",
       "      <th>longitude</th>\n",
       "      <th>altitude</th>\n",
       "      <th>user_id</th>\n",
       "      <th>geometry</th>\n",
       "    </tr>\n",
       "  </thead>\n",
       "  <tbody>\n",
       "    <tr>\n",
       "      <th>0</th>\n",
       "      <td>2008-10-23 02:53:10</td>\n",
       "      <td>39.984685</td>\n",
       "      <td>116.318433</td>\n",
       "      <td>492.0</td>\n",
       "      <td>0</td>\n",
       "      <td>POINT (116.31843 39.98468)</td>\n",
       "    </tr>\n",
       "    <tr>\n",
       "      <th>1</th>\n",
       "      <td>2008-10-23 02:53:20</td>\n",
       "      <td>39.984671</td>\n",
       "      <td>116.318324</td>\n",
       "      <td>492.0</td>\n",
       "      <td>0</td>\n",
       "      <td>POINT (116.31832 39.98467)</td>\n",
       "    </tr>\n",
       "    <tr>\n",
       "      <th>2</th>\n",
       "      <td>2008-10-23 02:53:30</td>\n",
       "      <td>39.984610</td>\n",
       "      <td>116.317893</td>\n",
       "      <td>493.0</td>\n",
       "      <td>0</td>\n",
       "      <td>POINT (116.31789 39.98461)</td>\n",
       "    </tr>\n",
       "    <tr>\n",
       "      <th>3</th>\n",
       "      <td>2008-10-23 02:53:40</td>\n",
       "      <td>39.984551</td>\n",
       "      <td>116.317406</td>\n",
       "      <td>498.0</td>\n",
       "      <td>0</td>\n",
       "      <td>POINT (116.31741 39.98455)</td>\n",
       "    </tr>\n",
       "    <tr>\n",
       "      <th>4</th>\n",
       "      <td>2008-10-23 02:53:50</td>\n",
       "      <td>39.984587</td>\n",
       "      <td>116.316988</td>\n",
       "      <td>507.5</td>\n",
       "      <td>0</td>\n",
       "      <td>POINT (116.31699 39.98459)</td>\n",
       "    </tr>\n",
       "  </tbody>\n",
       "</table>\n",
       "</div>"
      ],
      "text/plain": [
       "            timestamp   latitude   longitude  altitude  user_id  \\\n",
       "0 2008-10-23 02:53:10  39.984685  116.318433     492.0        0   \n",
       "1 2008-10-23 02:53:20  39.984671  116.318324     492.0        0   \n",
       "2 2008-10-23 02:53:30  39.984610  116.317893     493.0        0   \n",
       "3 2008-10-23 02:53:40  39.984551  116.317406     498.0        0   \n",
       "4 2008-10-23 02:53:50  39.984587  116.316988     507.5        0   \n",
       "\n",
       "                     geometry  \n",
       "0  POINT (116.31843 39.98468)  \n",
       "1  POINT (116.31832 39.98467)  \n",
       "2  POINT (116.31789 39.98461)  \n",
       "3  POINT (116.31741 39.98455)  \n",
       "4  POINT (116.31699 39.98459)  "
      ]
     },
     "execution_count": 12,
     "metadata": {},
     "output_type": "execute_result"
    }
   ],
   "source": [
    "%%time\n",
    "gdf = gpd.read_parquet(file)\n",
    "print(f\"Number of records in the dataset: {len(gdf)}\")\n",
    "gdf.head()"
   ]
  },
  {
   "cell_type": "code",
   "execution_count": 13,
   "metadata": {
    "scrolled": false
   },
   "outputs": [
    {
     "name": "stdout",
     "output_type": "stream",
     "text": [
      "CPU times: total: 10 s\n",
      "Wall time: 9.87 s\n"
     ]
    },
    {
     "data": {
      "application/vnd.jupyter.widget-view+json": {
       "model_id": "f10473040c2443e1bddd0fa1ee5344f7",
       "version_major": 2,
       "version_minor": 0
      },
      "text/plain": [
       "Map(basemap_style=<CartoBasemap.DarkMatter: 'https://basemaps.cartocdn.com/gl/dark-matter-gl-style/style.json'…"
      ]
     },
     "execution_count": 13,
     "metadata": {},
     "output_type": "execute_result"
    }
   ],
   "source": [
    "%%time\n",
    "layer = ScatterplotLayer.from_geopandas(gdf)\n",
    "map_ = Map(layers=[layer], basemap_style=CartoBasemap.DarkMatter) #Positron, DarkMatter, Voyager\n",
    "layer.opacity = 0.25\n",
    "layer.get_radius = 2.5\n",
    "layer.get_fill_color = [66, 245, 84, 255] #[255, 0, 0]\n",
    "map_"
   ]
  },
  {
   "cell_type": "raw",
   "metadata": {},
   "source": [
    "def make_trajectory(points_df, time_col='timestamp'):\n",
    "    points = points_df.sort_values(time_col)\n",
    "    coords = [(p.x, p.y) for p in points.geometry]\n",
    "    trajectory = LineString(coords)\n",
    "    return trajectory"
   ]
  },
  {
   "cell_type": "raw",
   "metadata": {},
   "source": [
    "%%time\n",
    "user_ids = list(gdf['user_id'].unique())[0:50]"
   ]
  },
  {
   "cell_type": "raw",
   "metadata": {},
   "source": [
    "%%time\n",
    "gdf['date'] = gdf['timestamp'].dt.date\n",
    "trajectories_list = list()\n",
    "\n",
    "with tqdm(total=len(user_ids), desc=\"Processing Data\", unit=\"user\") as progress_bar:\n",
    "    for user_id in user_ids:\n",
    "        user_df = gdf[(gdf.user_id == user_id)]\n",
    "        user_trajectory = make_trajectory(user_df)\n",
    "        trajectories_list.append([user_id, user_trajectory])\n",
    "        progress_bar.update(1)"
   ]
  },
  {
   "cell_type": "raw",
   "metadata": {},
   "source": [
    "%%time\n",
    "trajs_df = pd.DataFrame(trajectories_list)\n",
    "trajs_df.rename({0: \"user_id\", 1:\"geometry\"}, axis=1, inplace=True)\n",
    "trajs_gdf = gpd.GeoDataFrame(trajs_df, geometry='geometry')\n",
    "trajs_gdf = trajs_gdf.set_crs('EPSG:4326')\n",
    "trajs_gdf.head()\n",
    "trajs_gdf.to_parquet(r'C:\\Users\\andrr\\Desktop\\geolife\\geolife_trajectories.parquet')"
   ]
  },
  {
   "cell_type": "code",
   "execution_count": null,
   "metadata": {},
   "outputs": [],
   "source": []
  }
 ],
 "metadata": {
  "kernelspec": {
   "display_name": "Python [conda env:mltk] *",
   "language": "python",
   "name": "conda-env-mltk-py"
  },
  "language_info": {
   "codemirror_mode": {
    "name": "ipython",
    "version": 3
   },
   "file_extension": ".py",
   "mimetype": "text/x-python",
   "name": "python",
   "nbconvert_exporter": "python",
   "pygments_lexer": "ipython3",
   "version": "3.9.12"
  }
 },
 "nbformat": 4,
 "nbformat_minor": 2
}
