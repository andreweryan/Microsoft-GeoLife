{
 "cells": [
  {
   "cell_type": "code",
   "execution_count": null,
   "metadata": {},
   "outputs": [],
   "source": [
    "import numpy as np\n",
    "import polars as pl\n",
    "import pandas as pd\n",
    "import geopandas as gpd\n",
    "from tqdm import tqdm\n",
    "from shapely.geometry import Point, LineString\n",
    "from lonboard import viz\n",
    "\n",
    "import warnings\n",
    "warnings.filterwarnings(\"ignore\")"
   ]
  },
  {
   "cell_type": "markdown",
   "metadata": {},
   "source": [
    "PC specs: AMD Ryzen 9 3900x (12 core, 24 threads), 10GB NVIDIA 3080, 32GB RAM\n",
    "\n",
    "- full dataset, sampled every 1-5s:\n",
    "    - 24,858,308 points\n",
    "    - 980.7 MB parquet\n",
    "    - 34 seconds to load (GeoPandas direct)\n",
    "    - 52.6 seconds to render (almost crashed)\n",
    "- resampled user data to every 10s:\n",
    "    - 6,685,898 points\n",
    "    - 256.7 MB parquet\n",
    "    - 6 seconds to load (GeoPandas direct)\n",
    "    - 9.75s to render\n",
    "- sampled user data to every 1 minute:\n",
    "    - 1,286,190 points\n",
    "    - 55.6 MB parquet\n",
    "    - 1.44 seconds to load (GeoPandas direct)\n",
    "    - 1.97s to render\n",
    "- sampled user data to every 5 minutes:\n",
    "    - 326,935 points\n",
    "    - 14.6 MB parquet\n",
    "    - 455 ms to load (GeoPandas direct)\n",
    "    - 514 ms to render"
   ]
  },
  {
   "cell_type": "code",
   "execution_count": null,
   "metadata": {},
   "outputs": [],
   "source": [
    "file = r'C:\\Users\\andrr\\Desktop\\geolife\\geolife_points.parquet'"
   ]
  },
  {
   "cell_type": "code",
   "execution_count": null,
   "metadata": {},
   "outputs": [],
   "source": [
    "%%time\n",
    "gdf = gpd.read_parquet(file)\n",
    "print(f\"Number of records in the dataset: {len(gdf)}\")\n",
    "gdf.head()"
   ]
  },
  {
   "cell_type": "code",
   "execution_count": null,
   "metadata": {},
   "outputs": [],
   "source": [
    "%%time\n",
    "viz(gdf)"
   ]
  },
  {
   "cell_type": "raw",
   "metadata": {},
   "source": [
    "def make_trajectory(points_df, time_col='timestamp'):\n",
    "    points = points_df.sort_values(time_col)\n",
    "    coords = [(p.x, p.y) for p in points.geometry]\n",
    "    trajectory = LineString(coords)\n",
    "    return trajectory"
   ]
  },
  {
   "cell_type": "raw",
   "metadata": {},
   "source": [
    "%%time\n",
    "user_ids = list(gdf['user_id'].unique())[0:50]"
   ]
  },
  {
   "cell_type": "raw",
   "metadata": {},
   "source": [
    "%%time\n",
    "gdf['date'] = gdf['timestamp'].dt.date\n",
    "trajectories_list = list()\n",
    "\n",
    "with tqdm(total=len(user_ids), desc=\"Processing Data\", unit=\"user\") as progress_bar:\n",
    "    for user_id in user_ids:\n",
    "        user_df = gdf[(gdf.user_id == user_id)]\n",
    "        user_trajectory = make_trajectory(user_df)\n",
    "        trajectories_list.append([user_id, user_trajectory])\n",
    "        progress_bar.update(1)"
   ]
  },
  {
   "cell_type": "raw",
   "metadata": {},
   "source": [
    "%%time\n",
    "trajs_df = pd.DataFrame(trajectories_list)\n",
    "trajs_df.rename({0: \"user_id\", 1:\"geometry\"}, axis=1, inplace=True)\n",
    "trajs_gdf = gpd.GeoDataFrame(trajs_df, geometry='geometry')\n",
    "trajs_gdf = trajs_gdf.set_crs('EPSG:4326')\n",
    "trajs_gdf.head()\n",
    "trajs_gdf.to_parquet(r'C:\\Users\\andrr\\Desktop\\geolife\\geolife_trajectories.parquet')"
   ]
  },
  {
   "cell_type": "code",
   "execution_count": null,
   "metadata": {},
   "outputs": [],
   "source": []
  },
  {
   "cell_type": "code",
   "execution_count": null,
   "metadata": {},
   "outputs": [],
   "source": []
  }
 ],
 "metadata": {
  "kernelspec": {
   "display_name": "Python [conda env:mltk] *",
   "language": "python",
   "name": "conda-env-mltk-py"
  },
  "language_info": {
   "codemirror_mode": {
    "name": "ipython",
    "version": 3
   },
   "file_extension": ".py",
   "mimetype": "text/x-python",
   "name": "python",
   "nbconvert_exporter": "python",
   "pygments_lexer": "ipython3",
   "version": "3.9.12"
  }
 },
 "nbformat": 4,
 "nbformat_minor": 2
}
