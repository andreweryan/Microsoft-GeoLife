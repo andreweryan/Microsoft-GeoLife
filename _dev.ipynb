{
 "cells": [
  {
   "cell_type": "code",
   "execution_count": null,
   "metadata": {},
   "outputs": [],
   "source": [
    "import gc\n",
    "import momepy\n",
    "import osmnx as ox\n",
    "import networkx as nx\n",
    "from datetime import datetime\n",
    "import geopandas as gpd\n",
    "import warnings\n",
    "\n",
    "warnings.filterwarnings(\"ignore\")"
   ]
  },
  {
   "cell_type": "code",
   "execution_count": null,
   "metadata": {},
   "outputs": [],
   "source": [
    "# xmin, ymin, xmax, ymax = 115.898895, 39.620499, 116.845093, 40.194610\n",
    "xmin, ymin, xmax, ymax = 116.333714, 39.937053, 116.437740, 39.985736"
   ]
  },
  {
   "cell_type": "code",
   "execution_count": null,
   "metadata": {},
   "outputs": [],
   "source": [
    "%%time\n",
    "# gdf = gpd.read_parquet(r'C:\\Projects\\data\\geolife\\geolife_lines.parquet')\n",
    "print(len(gdf))"
   ]
  },
  {
   "cell_type": "code",
   "execution_count": null,
   "metadata": {},
   "outputs": [],
   "source": [
    "%%time\n",
    "gdf = gdf.cx[xmin:xmax, ymin:ymax]\n",
    "print(len(gdf))"
   ]
  },
  {
   "cell_type": "code",
   "execution_count": null,
   "metadata": {},
   "outputs": [],
   "source": [
    "%%time\n",
    "G = momepy.gdf_to_nx(gdf, approach=\"primal\")"
   ]
  },
  {
   "cell_type": "code",
   "execution_count": null,
   "metadata": {},
   "outputs": [],
   "source": [
    "%%time\n",
    "nodes, edges = momepy.nx_to_gdf(G)"
   ]
  },
  {
   "cell_type": "code",
   "execution_count": null,
   "metadata": {},
   "outputs": [],
   "source": [
    "%%time\n",
    "nodes['x'], nodes['y'] = nodes.geometry.x, nodes.geometry.y"
   ]
  },
  {
   "cell_type": "code",
   "execution_count": null,
   "metadata": {},
   "outputs": [],
   "source": [
    "%%time\n",
    "edges['u'] = edges['node_start']\n",
    "edges['v'] = edges['node_end']\n",
    "edges['k'] = 0\n",
    "edges.set_index(['u','v','k'], inplace=True)"
   ]
  },
  {
   "cell_type": "code",
   "execution_count": null,
   "metadata": {},
   "outputs": [],
   "source": [
    "%%time\n",
    "oxG = ox.utils_graph.graph_from_gdfs(nodes, edges, graph_attrs=None)"
   ]
  },
  {
   "cell_type": "code",
   "execution_count": null,
   "metadata": {},
   "outputs": [],
   "source": [
    "%%time\n",
    "oxG_simplified = ox.simplify_graph(oxG)"
   ]
  },
  {
   "cell_type": "code",
   "execution_count": null,
   "metadata": {},
   "outputs": [],
   "source": [
    "%%time\n",
    "oxG_proj = ox.project_graph(oxG_simplified)"
   ]
  },
  {
   "cell_type": "code",
   "execution_count": 12,
   "metadata": {},
   "outputs": [],
   "source": [
    "%%time #way to slow for dataset - going to try to use a grid to rasterize the lines then skeletonize and convert to a graph that way\n",
    "G2 = ox.consolidate_intersections(oxG_proj, rebuild_graph=True, tolerance=15, dead_ends=False)"
   ]
  },
  {
   "cell_type": "code",
   "execution_count": null,
   "metadata": {},
   "outputs": [],
   "source": [
    "gdf_nodes, gdf_edges = ox.graph_to_gdfs(G2, nodes=True, edges=True, node_geometry=True, fill_edge_geometry=True)"
   ]
  },
  {
   "cell_type": "code",
   "execution_count": null,
   "metadata": {},
   "outputs": [],
   "source": [
    "gdf_nodes.to_parquet(r'C:\\Projects\\data\\geolife\\geolife_graph_nodes.parquet')\n",
    "gdf_edges.to_parquet(r'C:\\Projects\\data\\geolife\\geolife_graph_edges.parquet')"
   ]
  },
  {
   "cell_type": "code",
   "execution_count": null,
   "metadata": {},
   "outputs": [],
   "source": [
    "# fig, ax = ox.plot_graph(G2, node_color=\"r\")"
   ]
  }
 ],
 "metadata": {
  "kernelspec": {
   "display_name": "dev",
   "language": "python",
   "name": "python3"
  },
  "language_info": {
   "codemirror_mode": {
    "name": "ipython",
    "version": 3
   },
   "file_extension": ".py",
   "mimetype": "text/x-python",
   "name": "python",
   "nbconvert_exporter": "python",
   "pygments_lexer": "ipython3",
   "version": "3.10.13"
  }
 },
 "nbformat": 4,
 "nbformat_minor": 2
}
